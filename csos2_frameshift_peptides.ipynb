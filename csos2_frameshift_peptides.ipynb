{
 "metadata": {
  "name": ""
 },
 "nbformat": 3,
 "nbformat_minor": 0,
 "worksheets": [
  {
   "cells": [
    {
     "cell_type": "code",
     "collapsed": false,
     "input": [
      "from Bio import SeqIO\n",
      "from Bio.Seq import Seq\n",
      "import re\n",
      "import numpy as np"
     ],
     "language": "python",
     "metadata": {},
     "outputs": [],
     "prompt_number": 1
    },
    {
     "cell_type": "code",
     "collapsed": false,
     "input": [
      "TRYPSIN_PATTERN = re.compile(r'[rk]', re.IGNORECASE)\n",
      "\n",
      "def TrypsinizeLocally(prot_seq, posn):\n",
      "    \"\"\"Generate a tryptic fragment containing a particular position.\n",
      "    \n",
      "    Args:\n",
      "        prot_seq: the protein sequence.\n",
      "        posn: the position in the amino acid sequence to trypsinize around.\n",
      "        \n",
      "    Returns:\n",
      "        Tuple (aa sequence, start, end) where aa sequence is the amino acid\n",
      "        sequence of the peptide generate, start is the start index of the peptide\n",
      "        and end is the end index (into the protein).\n",
      "    \"\"\"\n",
      "    prot_str = str(prot_seq)\n",
      "    start_posns = [m.start() for m in re.finditer(TRYPSIN_PATTERN, prot_str)]\n",
      "    start_posns = np.array(start_posns)\n",
      "    \n",
      "    prev_trypsin_site = start_posns[np.where(start_posns < posn)][-1]\n",
      "    next_trypsin_site = start_posns[np.where(start_posns > posn)][0]\n",
      "    \n",
      "    # trim at stop codon\n",
      "    start_idx = prev_trypsin_site + 1\n",
      "    end_idx = next_trypsin_site + 1\n",
      "    m = re.search('\\*', prot_str)\n",
      "    if m and m.start() < end_idx:\n",
      "        end_idx = m.start()\n",
      "        \n",
      "    return prot_seq[start_idx:end_idx], start_idx, end_idx"
     ],
     "language": "python",
     "metadata": {},
     "outputs": [],
     "prompt_number": 2
    },
    {
     "cell_type": "code",
     "collapsed": false,
     "input": [
      "# Generate DNA sequences for 0, -1 and -2 frames.\n",
      "csos2 = SeqIO.read('seq/csos2.fa', 'fasta')\n",
      "csos2_fs1 = csos2[1:-2]\n",
      "csos2_fs2 = csos2[2:-1]\n",
      "\n",
      "# Translate the primary, -1 and -2 reading frames\n",
      "primary_prot = csos2.seq.translate()\n",
      "fs1_prot = csos2_fs1.seq.translate()\n",
      "fs2_prot = csos2_fs2.seq.translate()"
     ],
     "language": "python",
     "metadata": {},
     "outputs": [],
     "prompt_number": 3
    },
    {
     "cell_type": "code",
     "collapsed": false,
     "input": [
      "# Generate all the tryptic peptides\n",
      "prot_len = len(primary_prot)\n",
      "start = int(prot_len / 3.0)\n",
      "end = int(0.8 * prot_len)\n",
      "\n",
      "db_list = []\n",
      "min_peptide_length = 4\n",
      "\n",
      "for i in xrange(start, end + 1):\n",
      "    seq_begin = primary_prot[:i]\n",
      "    # +1 slippage is the same as -2 slippage, just indexed differently.\n",
      "    fs1_end = fs1_prot[i:]  # +1 slippage\n",
      "    fs2_end = fs2_prot[i - 1:] # -1 slippage\n",
      "    \n",
      "    fs1_fusion = seq_begin + fs1_end\n",
      "    fs2_fusion = seq_begin + fs2_end\n",
      "    \n",
      "    fs1_fusion_peptide, fs1_start, fs1_end = TrypsinizeLocally(fs1_fusion, i)\n",
      "    fs2_fusion_peptide, fs2_start, fs2_end = TrypsinizeLocally(fs2_fusion, i)\n",
      "        \n",
      "    # Encode fusion params into the name.\n",
      "    fs1_name = 'Csos2_%s_posn_%d_start_%d' % ('fs1', i, fs1_start)\n",
      "    fs2_name = 'Csos2_%s_posn_%d_start_%d' % ('fs2', i, fs2_start)\n",
      "    \n",
      "    desc_format = (\"generated Csos2 frameshifted peptide \"\n",
      "                   \"starting at %d and shifting to frameshift %d at %d\")\n",
      "    \n",
      "    fs1_record = SeqIO.SeqRecord(fs1_fusion_peptide, id=fs1_name, name=fs1_name,\n",
      "                                 description=desc_format % (fs1_start, 1, i))\n",
      "    fs2_record = SeqIO.SeqRecord(fs2_fusion_peptide, id=fs2_name, name=fs2_name,\n",
      "                                 description=desc_format % (fs2_start, 2, i))\n",
      "    \n",
      "    # Minimum length fusion peptide = 4 AA\n",
      "    if len(fs1_fusion_peptide) >= min_peptide_length:\n",
      "        db_list.append(fs1_record)\n",
      "    if len(fs2_fusion_peptide) >= min_peptide_length:\n",
      "        db_list.append(fs2_record)\n"
     ],
     "language": "python",
     "metadata": {},
     "outputs": [],
     "prompt_number": 4
    },
    {
     "cell_type": "code",
     "collapsed": false,
     "input": [
      "# Write the fusion peptide database as fasta. \n",
      "with open('seq/csos2_fs_fusion_peptide_db.fa', 'w') as f:\n",
      "    SeqIO.write(db_list, f, 'fasta')"
     ],
     "language": "python",
     "metadata": {},
     "outputs": [],
     "prompt_number": 5
    },
    {
     "cell_type": "code",
     "collapsed": false,
     "input": [],
     "language": "python",
     "metadata": {},
     "outputs": []
    }
   ],
   "metadata": {}
  }
 ]
}